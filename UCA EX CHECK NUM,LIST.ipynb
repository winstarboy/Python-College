{
 "cells": [
  {
   "cell_type": "code",
   "execution_count": 21,
   "metadata": {},
   "outputs": [
    {
     "name": "stdout",
     "output_type": "stream",
     "text": [
      "enter the number34\n",
      "thirty-four\n"
     ]
    }
   ],
   "source": [
    "import inflect\n",
    "\n",
    "a = inflect.engine()\n",
    "print(a.number_to_words(input(\"enter the number\")))"
   ]
  },
  {
   "cell_type": "code",
   "execution_count": 61,
   "metadata": {},
   "outputs": [
    {
     "name": "stdout",
     "output_type": "stream",
     "text": [
      "enter the range: 40\n",
      "0: zero\n",
      "1: one\n",
      "2: two\n",
      "3: three\n",
      "4: four\n",
      "5: five\n",
      "6: six\n",
      "7: seven\n",
      "8: eight\n",
      "9: nine\n",
      "10: ten\n",
      "11: eleven\n",
      "12: twelve\n",
      "13: thirteen\n",
      "14: fourteen\n",
      "15: fifteen\n",
      "16: sixteen\n",
      "17: seventeen\n",
      "18: eighteen\n",
      "19: nineteen\n",
      "20: out of range\n",
      "21: out of range\n",
      "22: out of range\n",
      "23: out of range\n",
      "24: out of range\n",
      "25: out of range\n",
      "26: out of range\n",
      "27: out of range\n",
      "28: out of range\n",
      "29: out of range\n",
      "30: out of range\n",
      "31: out of range\n",
      "32: out of range\n",
      "33: out of range\n",
      "34: out of range\n",
      "35: out of range\n",
      "36: out of range\n",
      "37: out of range\n",
      "38: out of range\n",
      "39: out of range\n"
     ]
    }
   ],
   "source": [
    "def main():\n",
    "  for i in range(0, 20):\n",
    "    print(f\"{i}: {spellNumber(i)}\")\n",
    "def spellNumber(n):\n",
    "  units = [\"zero\", \"one\", \"two\", \"three\", \"four\", \"five\",\n",
    "           \"six\", \"seven\", \"eight\", \"nine\", \"ten\", \"eleven\",\n",
    "           \"twelve\", \"thirteen\", \"fourteen\", \"fifteen\",\n",
    "           \"sixteen\", \"seventeen\", \"eighteen\", \"nineteen\"]\n",
    "  if n < 20: return units[n]\n",
    "  return \"out of range\"\n",
    "for i in range(int(input(\"enter the range: \"))):\n",
    "    print(f\"{i}: {spellNumber(i)}\")"
   ]
  },
  {
   "cell_type": "code",
   "execution_count": 60,
   "metadata": {},
   "outputs": [
    {
     "name": "stdout",
     "output_type": "stream",
     "text": [
      "enter total number of students: 1\n",
      "enter the dept number: 19-UCA-001\n",
      "enter the name: KEWIN\n",
      "enter the dob: 06-04-2002\n",
      "enter the fname: ANDERSON\n",
      "enter the score: 88\n",
      "['19-UCA-001', 'KEWIN', '06-04-2002', 'ANDERSON', '88']\n"
     ]
    }
   ],
   "source": [
    "a=[]\n",
    "n=int(input(\"enter total number of students: \"))\n",
    "for i in range(0,n):\n",
    "    dno=input(\"enter the dept number: \")\n",
    "    a.append(dno)\n",
    "    name=input(\"enter the name: \")\n",
    "    a.append(name)\n",
    "    dob=input(\"enter the dob: \")\n",
    "    a.append(dob)\n",
    "    fname=input(\"enter the fname: \")\n",
    "    a.append(fname)\n",
    "    score=input(\"enter the score: \")\n",
    "    a.append(score)\n",
    "print(a)"
   ]
  },
  {
   "cell_type": "code",
   "execution_count": null,
   "metadata": {},
   "outputs": [],
   "source": []
  }
 ],
 "metadata": {
  "kernelspec": {
   "display_name": "Python 3",
   "language": "python",
   "name": "python3"
  },
  "language_info": {
   "codemirror_mode": {
    "name": "ipython",
    "version": 3
   },
   "file_extension": ".py",
   "mimetype": "text/x-python",
   "name": "python",
   "nbconvert_exporter": "python",
   "pygments_lexer": "ipython3",
   "version": "3.8.3"
  }
 },
 "nbformat": 4,
 "nbformat_minor": 4
}
