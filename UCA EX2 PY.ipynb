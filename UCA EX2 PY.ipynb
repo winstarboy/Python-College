{
 "cells": [
  {
   "cell_type": "code",
   "execution_count": 6,
   "metadata": {},
   "outputs": [
    {
     "name": "stdout",
     "output_type": "stream",
     "text": [
      "enter 1st number: 5\n",
      "enter 2nd number: 4\n",
      "Addition of 2 numbers are 9\n",
      "Subtraction of 2 numbers are 1\n",
      "Multiplication of 2 numbers are 20\n",
      "Division of 2 numbers are 1.25\n",
      "Modulus of 2 numbers are 1\n"
     ]
    }
   ],
   "source": [
    "#calculator\n",
    "x = int(input(\"enter 1st number: \"))\n",
    "y = int(input(\"enter 2nd number: \"))\n",
    "add = x+y\n",
    "sub = x-y\n",
    "mul = x*y\n",
    "div = x/y\n",
    "mod = x%y\n",
    "print(\"Addition of 2 numbers are\",add)\n",
    "print(\"Subtraction of 2 numbers are\",sub)\n",
    "print(\"Multiplication of 2 numbers are\",mul)\n",
    "print(\"Division of 2 numbers are\",div)\n",
    "print(\"Modulus of 2 numbers are\",mod)"
   ]
  }
 ],
 "metadata": {
  "kernelspec": {
   "display_name": "Python 3",
   "language": "python",
   "name": "python3"
  },
  "language_info": {
   "codemirror_mode": {
    "name": "ipython",
    "version": 3
   },
   "file_extension": ".py",
   "mimetype": "text/x-python",
   "name": "python",
   "nbconvert_exporter": "python",
   "pygments_lexer": "ipython3",
   "version": "3.8.3"
  }
 },
 "nbformat": 4,
 "nbformat_minor": 4
}
