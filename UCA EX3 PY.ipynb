{
 "cells": [
  {
   "cell_type": "code",
   "execution_count": 2,
   "metadata": {},
   "outputs": [
    {
     "name": "stdout",
     "output_type": "stream",
     "text": [
      "Enter the cost of pencil in rupees: 1\n",
      "Enter the cost of pen in rupees; 5\n",
      "the cost of pen is greater\n"
     ]
    }
   ],
   "source": [
    "pencil = int(input(\"Enter the cost of pencil in rupees: \"))\n",
    "pen = int(input(\"Enter the cost of pen in rupees; \"))\n",
    "if pencil > pen:\n",
    "    print(\"the cost of pencil is greater\")\n",
    "else:\n",
    "    print(\"the cost of pen is greater\")"
   ]
  },
  {
   "cell_type": "code",
   "execution_count": 3,
   "metadata": {},
   "outputs": [
    {
     "ename": "SyntaxError",
     "evalue": "invalid syntax (<ipython-input-3-525810dbb59f>, line 4)",
     "output_type": "error",
     "traceback": [
      "\u001b[1;36m  File \u001b[1;32m\"<ipython-input-3-525810dbb59f>\"\u001b[1;36m, line \u001b[1;32m4\u001b[0m\n\u001b[1;33m    elif(mark>70 && mark<90):\u001b[0m\n\u001b[1;37m                  ^\u001b[0m\n\u001b[1;31mSyntaxError\u001b[0m\u001b[1;31m:\u001b[0m invalid syntax\n"
     ]
    }
   ],
   "source": [
    "mark = int(input(\"enter the mark: \"))\n",
    "if(mark>90):\n",
    "    print(\"Outstanding\")\n",
    "elif(mark>70 && mark<90):\n",
    "    print(\"distinction\")\n",
    "elif(mark>60 && mark<70):\n",
    "    print(\"first class\")\n",
    "elif(mark = 40)\n",
    "print(\"pass\")"
   ]
  },
  {
   "cell_type": "code",
   "execution_count": null,
   "metadata": {},
   "outputs": [],
   "source": []
  }
 ],
 "metadata": {
  "kernelspec": {
   "display_name": "Python 3",
   "language": "python",
   "name": "python3"
  },
  "language_info": {
   "codemirror_mode": {
    "name": "ipython",
    "version": 3
   },
   "file_extension": ".py",
   "mimetype": "text/x-python",
   "name": "python",
   "nbconvert_exporter": "python",
   "pygments_lexer": "ipython3",
   "version": "3.8.3"
  }
 },
 "nbformat": 4,
 "nbformat_minor": 4
}
