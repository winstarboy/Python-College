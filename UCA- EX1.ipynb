{
 "cells": [
  {
   "cell_type": "code",
   "execution_count": 10,
   "metadata": {},
   "outputs": [
    {
     "name": "stdout",
     "output_type": "stream",
     "text": [
      "enter the number 5\n",
      "enter the number 4\n",
      "the addition is 9\n"
     ]
    }
   ],
   "source": [
    "x=int(input(\"enter the number \"))\n",
    "y=int(input(\"enter the number \"))\n",
    "print(\"the addition is\",(x+y))"
   ]
  },
  {
   "cell_type": "code",
   "execution_count": 12,
   "metadata": {},
   "outputs": [
    {
     "name": "stdout",
     "output_type": "stream",
     "text": [
      "enter your name :thanigai\n",
      "hello  thanigai\n"
     ]
    }
   ],
   "source": [
    "name=input(\"enter your name :\")\n",
    "print(\"hello \",name)"
   ]
  },
  {
   "cell_type": "code",
   "execution_count": 13,
   "metadata": {},
   "outputs": [
    {
     "name": "stdout",
     "output_type": "stream",
     "text": [
      "enter principal amount: 1000\n",
      "enter the number of years: 2\n",
      "enter the rate of interest: 2.5\n",
      "the SI is  50.0\n"
     ]
    }
   ],
   "source": [
    "#pnr program\n",
    "#SI\n",
    "p=int(input(\"enter principal amount: \"))\n",
    "n=int(input(\"enter the number of years: \"))\n",
    "r=float(input(\"enter the rate of interest: \"))\n",
    "SI=p*n*r/100\n",
    "print(\"the SI is \",SI)"
   ]
  }
 ],
 "metadata": {
  "kernelspec": {
   "display_name": "Python 3",
   "language": "python",
   "name": "python3"
  },
  "language_info": {
   "codemirror_mode": {
    "name": "ipython",
    "version": 3
   },
   "file_extension": ".py",
   "mimetype": "text/x-python",
   "name": "python",
   "nbconvert_exporter": "python",
   "pygments_lexer": "ipython3",
   "version": "3.8.3"
  }
 },
 "nbformat": 4,
 "nbformat_minor": 4
}
