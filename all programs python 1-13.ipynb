{
 "cells": [
  {
   "cell_type": "code",
   "execution_count": 1,
   "metadata": {},
   "outputs": [
    {
     "name": "stdout",
     "output_type": "stream",
     "text": [
      "enter principal amount: 3000\n",
      "enter the number of years: 3\n",
      "enter the rate of interest: 2\n",
      "the SI is  180.0\n"
     ]
    }
   ],
   "source": [
    "#pnr program\n",
    "#SI\n",
    "p=int(input(\"enter principal amount: \"))\n",
    "n=int(input(\"enter the number of years: \"))\n",
    "r=float(input(\"enter the rate of interest: \"))\n",
    "SI=p*n*r/100\n",
    "print(\"the SI is \",SI)"
   ]
  },
  {
   "cell_type": "code",
   "execution_count": null,
   "metadata": {},
   "outputs": [],
   "source": [
    "#nested if to find incometax\n",
    "income=int(input(\"Enter the income :\"))\n",
    "if(income<200000):\n",
    " print(\"No income tax\")\n",
    "elif(income>200000 and income<400000):\n",
    " tax=(income-200000)*0.1\n",
    " print(tax)\n",
    "elif(income>400000 and income<600000):\n",
    " tax=(20000+income-200000)*0.2\n",
    " print(tax)\n",
    "elif(income>600000):\n",
    " tax=(20000+40000+income-600000)*0.3\n",
    " print(tax)"
   ]
  },
  {
   "cell_type": "code",
   "execution_count": 2,
   "metadata": {
    "scrolled": true
   },
   "outputs": [
    {
     "name": "stdout",
     "output_type": "stream",
     "text": [
      "1 x 1 = 1\t2 x 1 = 2\t3 x 1 = 3\t4 x 1 = 4\t5 x 1 = 5\t6 x 1 = 6\t7 x 1 = 7\t8 x 1 = 8\t9 x 1 = 9\t10 x 1 = 10\t\n",
      "1 x 2 = 2\t2 x 2 = 4\t3 x 2 = 6\t4 x 2 = 8\t5 x 2 = 10\t6 x 2 = 12\t7 x 2 = 14\t8 x 2 = 16\t9 x 2 = 18\t10 x 2 = 20\t\n",
      "1 x 3 = 3\t2 x 3 = 6\t3 x 3 = 9\t4 x 3 = 12\t5 x 3 = 15\t6 x 3 = 18\t7 x 3 = 21\t8 x 3 = 24\t9 x 3 = 27\t10 x 3 = 30\t\n",
      "1 x 4 = 4\t2 x 4 = 8\t3 x 4 = 12\t4 x 4 = 16\t5 x 4 = 20\t6 x 4 = 24\t7 x 4 = 28\t8 x 4 = 32\t9 x 4 = 36\t10 x 4 = 40\t\n",
      "1 x 5 = 5\t2 x 5 = 10\t3 x 5 = 15\t4 x 5 = 20\t5 x 5 = 25\t6 x 5 = 30\t7 x 5 = 35\t8 x 5 = 40\t9 x 5 = 45\t10 x 5 = 50\t\n",
      "1 x 6 = 6\t2 x 6 = 12\t3 x 6 = 18\t4 x 6 = 24\t5 x 6 = 30\t6 x 6 = 36\t7 x 6 = 42\t8 x 6 = 48\t9 x 6 = 54\t10 x 6 = 60\t\n",
      "1 x 7 = 7\t2 x 7 = 14\t3 x 7 = 21\t4 x 7 = 28\t5 x 7 = 35\t6 x 7 = 42\t7 x 7 = 49\t8 x 7 = 56\t9 x 7 = 63\t10 x 7 = 70\t\n",
      "1 x 8 = 8\t2 x 8 = 16\t3 x 8 = 24\t4 x 8 = 32\t5 x 8 = 40\t6 x 8 = 48\t7 x 8 = 56\t8 x 8 = 64\t9 x 8 = 72\t10 x 8 = 80\t\n",
      "1 x 9 = 9\t2 x 9 = 18\t3 x 9 = 27\t4 x 9 = 36\t5 x 9 = 45\t6 x 9 = 54\t7 x 9 = 63\t8 x 9 = 72\t9 x 9 = 81\t10 x 9 = 90\t\n",
      "1 x 10 = 10\t2 x 10 = 20\t3 x 10 = 30\t4 x 10 = 40\t5 x 10 = 50\t6 x 10 = 60\t7 x 10 = 70\t8 x 10 = 80\t9 x 10 = 90\t10 x 10 = 100\t\n"
     ]
    }
   ],
   "source": [
    "#multiplication table\n",
    "for i in range(1,11):\n",
    "    for j in range (1,11):\n",
    "        \n",
    "        print(j,\"x\",i,\"=\",j*i,end=\"\\t\")\n",
    "    print()\n"
   ]
  },
  {
   "cell_type": "code",
   "execution_count": 10,
   "metadata": {},
   "outputs": [
    {
     "name": "stdout",
     "output_type": "stream",
     "text": [
      "enter a 3 digit number100\n",
      "one zero zero "
     ]
    }
   ],
   "source": [
    "#numtowords using array\n",
    "from array import array\n",
    "a = array ('i', range(0,9))\n",
    "x = int (input(\"enter a 3 digit number\"))\n",
    "a [2] = int(x%10)\n",
    "a [1] = int(x/10%10)\n",
    "a [0] = int(x/100)\n",
    "for i in range (0,3):\n",
    "    if a [i] == 0:\n",
    "        print(\"zero\",end=' ')\n",
    "    elif a [i] == 1 : \n",
    "        print(\"one\",end=' ')\n",
    "    elif a [i] == 2 : \n",
    "        print(\"two\",end=' ')\n",
    "    elif a [i] == 3 : \n",
    "        print(\"three\",end=' ')\n",
    "    elif a [i] == 4 : \n",
    "        print(\"four\",end=' ')\n",
    "    elif a [i] == 5 :\n",
    "        print(\"five\",end=' ')\n",
    "    elif a [i] == 6 : \n",
    "        print(\"six\",end=' ')\n",
    "    elif a [i] == 7 : \n",
    "        print(\"seven\",end=' ')\n",
    "    elif a [i] == 8 : \n",
    "        print(\"eight\",end=' ')\n",
    "    else:\n",
    "        print(\"nine\",end=' ')\n"
   ]
  },
  {
   "cell_type": "code",
   "execution_count": 11,
   "metadata": {},
   "outputs": [
    {
     "name": "stdout",
     "output_type": "stream",
     "text": [
      "Enter a 3 digit num: 100\n",
      "one zero zero "
     ]
    }
   ],
   "source": [
    "#numtowords using function \n",
    "#number to word defined function\n",
    "def text_eq(x):\n",
    "    if x==0:\n",
    "        y=\"zero\"\n",
    "    elif x==1:\n",
    "        y=\"one\"\n",
    "    elif x==2:\n",
    "        y=\"two\"\n",
    "    elif x==3:\n",
    "        y=\"three\"\n",
    "    elif x==4:\n",
    "        y=\"four\"\n",
    "    elif x==5:\n",
    "        y=\"five\"\n",
    "    elif x==6:\n",
    "        y=\"six\"\n",
    "    elif x==7:\n",
    "        y=\"seven\"\n",
    "    elif x==8:\n",
    "        y=\"eight\"\n",
    "    else:\n",
    "        y=\"nine\"\n",
    "    return y\n",
    "\n",
    "i=int(input(\"Enter a 3 digit num: \"))\n",
    "d1=int(i/100)\n",
    "print(text_eq(d1),end=' ')\n",
    "\n",
    "d2=int(i/10%10)\n",
    "print(text_eq(d2),end=' ')\n",
    "\n",
    "d3=int(i%10)\n",
    "print(text_eq(d3),end=' ')"
   ]
  },
  {
   "cell_type": "code",
   "execution_count": 13,
   "metadata": {},
   "outputs": [
    {
     "name": "stdout",
     "output_type": "stream",
     "text": [
      "enter total number of students: 1\n",
      "enter the dept number: 19-uca-001\n",
      "enter the name: Kewin\n",
      "enter the dob: 06-04-2002\n",
      "enter the fname: Anderson\n",
      "enter the score: 88\n",
      "['19-uca-001', 'Kewin', '06-04-2002', 'Anderson', '88']\n"
     ]
    }
   ],
   "source": [
    "#list\n",
    "a=[]\n",
    "n=int(input(\"enter total number of students: \"))\n",
    "for i in range(0,n):\n",
    "    dno=input(\"enter the dept number: \")\n",
    "    a.append(dno)\n",
    "    name=input(\"enter the name: \")\n",
    "    a.append(name)\n",
    "    dob=input(\"enter the dob: \")\n",
    "    a.append(dob)\n",
    "    fname=input(\"enter the fname: \")\n",
    "    a.append(fname)\n",
    "    score=input(\"enter the score: \")\n",
    "    a.append(score)\n",
    "print(a)"
   ]
  },
  {
   "cell_type": "code",
   "execution_count": 14,
   "metadata": {},
   "outputs": [
    {
     "name": "stdout",
     "output_type": "stream",
     "text": [
      "1 19-UCA-001 Kewin 06-04-2002 8056045990\n",
      "2 19-UCA-002 Daniel 12-06-2000 7305487090\n",
      "3 19-UCA-055 Barath 25-05-2002 9234568741\n"
     ]
    }
   ],
   "source": [
    "#dictionary\n",
    "dno={1:\"19-UCA-001\",2:\"19-UCA-002\",3:\"19-UCA-055\"}\n",
    "name={1:\"Kewin\",2:\"Daniel\",3:\"Barath\"}\n",
    "dob={1:\"06-04-2002\",2:\"12-06-2000\",3:\"25-05-2002\"}\n",
    "mobile={1:\"8056045990\",2:\"7305487090\",3:\"9234568741\"}\n",
    "\n",
    "for key in dno:\n",
    "    print(key, dno[key],name[key],dob[key],mobile[key])"
   ]
  },
  {
   "cell_type": "code",
   "execution_count": 17,
   "metadata": {},
   "outputs": [
    {
     "name": "stdout",
     "output_type": "stream",
     "text": [
      "Enter the number of Values: 2\n",
      "Enter the weight30\n",
      "Enter the weight30\n",
      "[30, 30]\n",
      "The standard deviation is : 42.42640687119285\n"
     ]
    }
   ],
   "source": [
    "#STANDARD DEVIATION\n",
    "import math\n",
    "n = int(input(\"Enter the number of Values: \"))\n",
    "weight = []\n",
    "s = 0\n",
    "for i in range(n):\n",
    "    w=0\n",
    "    weight.append(int(input(\"Enter the weight\")))\n",
    "    s+=w\n",
    "print(weight)\n",
    "average = int(s/n)\n",
    "d =0\n",
    "for i in weight:\n",
    "    d += (i - average)**2 \n",
    "d = d/(n-1)\n",
    "sd = math.sqrt(d)\n",
    "print(\"The standard deviation is : {}\".format(sd))"
   ]
  },
  {
   "cell_type": "code",
   "execution_count": null,
   "metadata": {},
   "outputs": [
    {
     "name": "stdout",
     "output_type": "stream",
     "text": [
      "Enter your choice: [1]-Insert [2]-Delete [3]-Display1\n",
      "Enter any integer value: 23\n",
      "[23]\n",
      "Enter your choice: [1]-Insert [2]-Delete [3]-Display1\n",
      "Enter any integer value: 24\n",
      "[23, 24]\n",
      "Enter your choice: [1]-Insert [2]-Delete [3]-Display2\n",
      "[23]\n",
      "Enter your choice: [1]-Insert [2]-Delete [3]-Display3\n",
      "[23]\n"
     ]
    }
   ],
   "source": [
    "#stack\n",
    "stack = []\n",
    "while(True):\n",
    "    x = int(input(\"Enter your choice: [1]-Insert [2]-Delete [3]-Display\"))\n",
    "    if(x==1):\n",
    "        v = int(input(\"Enter any integer value: \"))\n",
    "        stack.append(v)\n",
    "        print(stack)\n",
    "    elif(x==3):\n",
    "        print(stack)\n",
    "    elif x ==2 :\n",
    "        stack.pop()\n",
    "        print(stack)"
   ]
  },
  {
   "cell_type": "code",
   "execution_count": 3,
   "metadata": {},
   "outputs": [
    {
     "name": "stdout",
     "output_type": "stream",
     "text": [
      "23 YEARS\n"
     ]
    }
   ],
   "source": [
    "#agecalculator\n",
    "def ageCalculator(y, m, d):\n",
    "    import datetime\n",
    "    today = datetime.datetime.now().date()\n",
    "    dob = datetime.date(y, m, d)\n",
    "    age = int((today-dob).days / 365.25)\n",
    "    print(age ,\"YEARS\" )\n",
    "   \n",
    "   \n",
    "   \n",
    "ageCalculator(1998, 9, 3)"
   ]
  },
  {
   "cell_type": "code",
   "execution_count": 4,
   "metadata": {},
   "outputs": [
    {
     "name": "stdout",
     "output_type": "stream",
     "text": [
      "I'm the Parent\n",
      "I'm the Child\n"
     ]
    }
   ],
   "source": [
    "#single inheritance\n",
    "class Parent:\n",
    "  def myfun_p(self):\n",
    "      print(\"I'm the Parent\")\n",
    "class Child(Parent):\n",
    "  def myfun_c(self):\n",
    "      print(\"I'm the Child\")\n",
    "obj = Child()\n",
    "obj.myfun_p()\n",
    "obj.myfun_c()"
   ]
  },
  {
   "cell_type": "code",
   "execution_count": 5,
   "metadata": {},
   "outputs": [
    {
     "name": "stdout",
     "output_type": "stream",
     "text": [
      "Name : Kewin\n",
      "Surname : Sebaasti\n"
     ]
    }
   ],
   "source": [
    "#multiple inheritance\n",
    "class Name:\n",
    "  name = \"\"\n",
    "def myfun1(self):\n",
    "  print(self.name)\n",
    "class Surname:\n",
    "  surname = \"\"\n",
    "def myfun2(self):\n",
    "  print(self.surname)\n",
    "# Multi Child class\n",
    "class Student(Name, Surname):\n",
    "  def parents(self):\n",
    "    print(\"Name :\", self.name)\n",
    "    print(\"Surname :\", self.surname)\n",
    "stud = Student()\n",
    "stud.name = \"Kewin\"\n",
    "stud.surname = \"Sebaasti\"\n",
    "stud.parents()"
   ]
  },
  {
   "cell_type": "code",
   "execution_count": 6,
   "metadata": {},
   "outputs": [
    {
     "name": "stdout",
     "output_type": "stream",
     "text": [
      "I’m the Principal\n",
      "I’m a Teacher\n",
      "I’m a student\n"
     ]
    }
   ],
   "source": [
    "#multi-level inheritance\n",
    "class Principal:\n",
    "  def principal(self):\n",
    "    print(\"I’m the Principal\")\n",
    "class Teacher(Principal):\n",
    "  def teacher(self):\n",
    "    print(\"I’m a Teacher\")\n",
    "class Student(Teacher):\n",
    "  def student(self):\n",
    "    print(\"I’m a student\")\n",
    "d = Student()\n",
    "d.principal()\n",
    "d.teacher()\n",
    "d.student()"
   ]
  },
  {
   "cell_type": "code",
   "execution_count": 7,
   "metadata": {},
   "outputs": [
    {
     "name": "stdout",
     "output_type": "stream",
     "text": [
      "I'm the HOD\n",
      "I'm the co-ordinator under HOD\n",
      "I'm a STAFF under HOD\n"
     ]
    }
   ],
   "source": [
    "#hierarchial inheritance\n",
    "# Python program to demonstrate\n",
    "# Hierarchical inheritance\n",
    "\n",
    "\n",
    "# Base class\n",
    "class HOD:\n",
    "\tdef func1(self):\n",
    "\t\tprint(\"I'm the HOD\")\n",
    "\n",
    "# Derived class1\n",
    "class CO_ORDINATOR(HOD):\n",
    "\tdef func2(self):\n",
    "\t\tprint(\"I'm the co-ordinator under HOD\")\n",
    "\n",
    "# Derivied class2\n",
    "class staff(HOD):\n",
    "\tdef func3(self):\n",
    "\t\tprint(\"I'm a STAFF under HOD\")\n",
    "\n",
    "# Driver's code\n",
    "o1 = CO_ORDINATOR()\n",
    "o2 = staff()\n",
    "o1.func1()\n",
    "o1.func2()\n",
    "o2.func3()\n"
   ]
  },
  {
   "cell_type": "code",
   "execution_count": 8,
   "metadata": {},
   "outputs": [
    {
     "name": "stdout",
     "output_type": "stream",
     "text": [
      "Loyola College\n",
      "This function is in student 1. \n"
     ]
    }
   ],
   "source": [
    "# Python program to demonstrate\n",
    "# hybrid inheritance\n",
    "\n",
    "\n",
    "class College:\n",
    "\tdef func1(self):\n",
    "\t\tprint(\"Loyola College\")\n",
    "\n",
    "class Student1(College):\n",
    "\tdef func2(self):\n",
    "\t\tprint(\"This function is in student 1. \")\n",
    "\n",
    "class Student2(College):\n",
    "\tdef func3(self):\n",
    "\t\tprint(\"This function is in student 2.\")\n",
    "\n",
    "class Student3(Student1, College):\n",
    "\tdef func4(self):\n",
    "\t\tprint(\"This function is in student 3.\")\n",
    "\n",
    "# Driver's code\n",
    "o = Student3()\n",
    "o.func1()\n",
    "o.func2()"
   ]
  },
  {
   "cell_type": "code",
   "execution_count": 9,
   "metadata": {},
   "outputs": [
    {
     "data": {
      "text/plain": [
       "['Belt', 'Shirt', 'Socks', 'Tie']"
      ]
     },
     "execution_count": 9,
     "metadata": {},
     "output_type": "execute_result"
    }
   ],
   "source": [
    "class Order:\n",
    "    def __init__(self, cart, customer):\n",
    "        self.cart = list(cart)\n",
    "        self.customer = customer\n",
    "\n",
    "    def __add__(self, other):\n",
    "        new_cart = self.cart.copy()\n",
    "        new_cart.append(other)\n",
    "        return Order(new_cart, self.customer)\n",
    "\n",
    "    def __radd__(self, other):\n",
    "        new_cart = self.cart.copy()\n",
    "        new_cart.insert(0, other)\n",
    "        return Order(new_cart, self.customer)\n",
    "\n",
    "order = Order(['Shirt', 'Socks'], 'Amazon')\n",
    "\n",
    "order = order + 'Tie'\n",
    "order.cart\n",
    "\n",
    "\n",
    "order = 'Belt' + order\n",
    "order.cart"
   ]
  },
  {
   "cell_type": "code",
   "execution_count": 12,
   "metadata": {},
   "outputs": [
    {
     "name": "stdout",
     "output_type": "stream",
     "text": [
      "I have 4 sides. I am from Square class\n",
      "I am a 2D object. I am from shape class\n",
      "I have teal color. I am from Square class.\n"
     ]
    }
   ],
   "source": [
    "# Parent class\n",
    "class Shape:\n",
    "    # properties\n",
    "    data1 = \"abc\"\n",
    "\n",
    "    # function no_of_sides\n",
    "    def no_of_sides(self):\n",
    "        print(\"My sides need to be defined. I am from shape class.\")\n",
    "\n",
    "    # function two_dimensional\n",
    "    def two_dimensional(self):\n",
    "        print(\"I am a 2D object. I am from shape class\")\n",
    "\n",
    "#Sub-class\n",
    "class Square(Shape):\n",
    "    data2 = \"xyz\"\n",
    "\n",
    "    def no_of_sides(self):\n",
    "        print(\"I have 4 sides. I am from Square class\")\n",
    "\n",
    "    def color(self):\n",
    "        print(\"I have teal color. I am from Square class.\")\n",
    "\n",
    "\n",
    "# Create an object of Square class\n",
    "sq = Square()\n",
    "# Override the no_of_sides of parent class\n",
    "sq.no_of_sides()\n",
    "# Will inherit this method from the parent class\n",
    "sq.two_dimensional()\n",
    "# It's own method - color\n",
    "sq.color()\n"
   ]
  },
  {
   "cell_type": "code",
   "execution_count": null,
   "metadata": {},
   "outputs": [],
   "source": []
  }
 ],
 "metadata": {
  "kernelspec": {
   "display_name": "Python 3",
   "language": "python",
   "name": "python3"
  },
  "language_info": {
   "codemirror_mode": {
    "name": "ipython",
    "version": 3
   },
   "file_extension": ".py",
   "mimetype": "text/x-python",
   "name": "python",
   "nbconvert_exporter": "python",
   "pygments_lexer": "ipython3",
   "version": "3.8.3"
  }
 },
 "nbformat": 4,
 "nbformat_minor": 4
}
