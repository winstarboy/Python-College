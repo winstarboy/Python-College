{
 "cells": [
  {
   "cell_type": "code",
   "execution_count": 2,
   "metadata": {},
   "outputs": [
    {
     "name": "stdout",
     "output_type": "stream",
     "text": [
      "Enter the cost of pencil in rupees: 1\n",
      "Enter the cost of pen in rupees; 5\n",
      "the cost of pen is greater\n"
     ]
    }
   ],
   "source": [
    "pencil = int(input(\"Enter the cost of pencil in rupees: \"))\n",
    "pen = int(input(\"Enter the cost of pen in rupees; \"))\n",
    "if pencil > pen:\n",
    "    print(\"the cost of pencil is greater\")\n",
    "else:\n",
    "    print(\"the cost of pen is greater\")"
   ]
  },
  {
   "cell_type": "code",
   "execution_count": 18,
   "metadata": {},
   "outputs": [
    {
     "name": "stdout",
     "output_type": "stream",
     "text": [
      "enter the mark: 40\n",
      "Third class\n"
     ]
    }
   ],
   "source": [
    "mark = int(input(\"enter the mark: \"))\n",
    "if(mark>= 90):\n",
    "    print(\"Outstanding\")\n",
    "elif(mark >= 70 and mark < 90):\n",
    "    print(\"distinction\")\n",
    "elif(mark >= 60 and mark < 70):\n",
    "    print(\"first class\")\n",
    "elif(mark >= 50 and mark < 60):\n",
    "    print(\"second class\")\n",
    "elif(mark >= 40 and mark < 50):\n",
    "    print(\"Third class\")\n",
    "else:\n",
    "    print(\"fail\")"
   ]
  },
  {
   "cell_type": "code",
   "execution_count": 29,
   "metadata": {},
   "outputs": [
    {
     "name": "stdout",
     "output_type": "stream",
     "text": [
      "enter your annual income 2000000\n",
      "30% income tax 600000.0\n"
     ]
    }
   ],
   "source": [
    "income = float(input(\"enter your annual income \"))\n",
    "if(income<200000):\n",
    "    print(\"income tax is 0\")\n",
    "elif(income>200000 and income<=400000):\n",
    "    print(\"10% income tax\",0.1*income)\n",
    "elif(income>400000 and income<=600000):\n",
    "    print(\"20% income tax\",0.2*income)\n",
    "elif(income>600000):\n",
    "    print(\"30% income tax\",0.3*income)"
   ]
  }
 ],
 "metadata": {
  "kernelspec": {
   "display_name": "Python 3",
   "language": "python",
   "name": "python3"
  },
  "language_info": {
   "codemirror_mode": {
    "name": "ipython",
    "version": 3
   },
   "file_extension": ".py",
   "mimetype": "text/x-python",
   "name": "python",
   "nbconvert_exporter": "python",
   "pygments_lexer": "ipython3",
   "version": "3.8.3"
  }
 },
 "nbformat": 4,
 "nbformat_minor": 4
}
